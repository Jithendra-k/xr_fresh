{
 "cells": [
  {
   "cell_type": "code",
   "execution_count": 1,
   "metadata": {},
   "outputs": [
    {
     "name": "stdout",
     "output_type": "stream",
     "text": [
      "<xarray.DataArray 'random_sample-a19895ecc83ce43974cb069a42d58a48' (time: 3, band: 4, y: 100, x: 200)>\n",
      "dask.array<concatenate, shape=(3, 4, 100, 200), dtype=float64, chunksize=(1, 1, 50, 50), chunktype=numpy.ndarray>\n",
      "Coordinates:\n",
      "  * band     (band) object 'blue' 'green' 'red' 'nir'\n",
      "  * y        (y) float64 1.985e+03 1.955e+03 1.924e+03 ... -984.7 -1.015e+03\n",
      "  * x        (x) float64 1.015e+03 1.045e+03 1.075e+03 ... 6.985e+03 7.015e+03\n",
      "  * time     (time) object 't1' 't2' 't3'\n"
     ]
    }
   ],
   "source": [
    "import numpy as np\n",
    "import dask.array as da\n",
    "import xarray as xr\n",
    "from sklearn_xarray import wrap, Target\n",
    "from sklearn_xarray.preprocessing import Splitter, Sanitizer, Featurizer\n",
    "from sklearn_xarray.model_selection import CrossValidatorWrapper\n",
    "from sklearn_xarray.datasets import load_wisdm_dataarray\n",
    "from sklearn.preprocessing import StandardScaler, LabelEncoder,LabelBinarizer\n",
    "from sklearn.decomposition import PCA\n",
    "from sklearn.naive_bayes import GaussianNB\n",
    "from sklearn.model_selection import GroupShuffleSplit, GridSearchCV\n",
    "from sklearn.pipeline import Pipeline\n",
    "import sys\n",
    "sys.path.append('/home/mmann1123/Documents/github/xr_fresh/')\n",
    "from xr_fresh.transformers import Stackerizer \n",
    "\n",
    "\n",
    "nrows = 100\n",
    "ncols = 200\n",
    "row_chunks = 50\n",
    "col_chunks = 50\n",
    "\n",
    "data = da.random.random(size=(1, nrows, ncols), chunks=(1, row_chunks, col_chunks))\n",
    "\n",
    "def create_band(data, x, y, band_name):\n",
    "\n",
    "    return xr.DataArray(data,\n",
    "                        dims=('band', 'y', 'x'),\n",
    "                        coords={'band': [band_name],\n",
    "                                'y': y,\n",
    "                                'x': x})\n",
    "\n",
    "def create_coords(data, left, top, celly, cellx):\n",
    "    nrows = data.shape[-2]\n",
    "    ncols = data.shape[-1]\n",
    "    right = left + cellx*ncols\n",
    "    bottom = top - celly*nrows\n",
    "    x = np.linspace(left, right, ncols) + cellx/2.0\n",
    "    y = np.linspace(top, bottom, nrows) - celly/2.0\n",
    "    \n",
    "    return x, y\n",
    "\n",
    "x, y = create_coords(data, 1000, 2000, 30, 30)\n",
    "\n",
    "src = []\n",
    "\n",
    "for time in ['t1', 't2', 't3']:\n",
    "\n",
    "    src_t = xr.concat([create_band(data, x, y, band) for band in ['blue', 'green', 'red', 'nir']], dim='band')\\\n",
    "                    .expand_dims(dim='time')\\\n",
    "                    .assign_coords({'time': [time]})\n",
    "    \n",
    "    src.append(src_t)\n",
    "\n",
    "src = xr.concat(src, dim='time')\n",
    "print(src)"
   ]
  },
  {
   "cell_type": "code",
   "execution_count": 2,
   "metadata": {},
   "outputs": [
    {
     "name": "stdout",
     "output_type": "stream",
     "text": [
      "<xarray.DataArray 'random_sample-a19895ecc83ce43974cb069a42d58a48' (sample: 60000, band: 4)>\n",
      "dask.array<transpose, shape=(60000, 4), dtype=float64, chunksize=(3000, 1), chunktype=numpy.ndarray>\n",
      "Coordinates:\n",
      "  * band      (band) object 'blue' 'green' 'red' 'nir'\n",
      "    land_use  (sample) <U6 'water' 'water' 'water' ... 'water' 'water' 'water'\n",
      "  * sample    (sample) MultiIndex\n",
      "  - x         (sample) float64 1.015e+03 1.015e+03 ... 7.015e+03 7.015e+03\n",
      "  - y         (sample) float64 1.985e+03 1.985e+03 ... -1.015e+03 -1.015e+03\n",
      "  - time      (sample) object 't1' 't2' 't3' 't1' 't2' ... 't3' 't1' 't2' 't3'\n",
      "----------------------\n",
      "[[0.27828509 0.27828509 0.27828509 0.27828509]\n",
      " [0.27828509 0.27828509 0.27828509 0.27828509]\n",
      " [0.27828509 0.27828509 0.27828509 0.27828509]\n",
      " ...\n",
      " [0.14799641 0.14799641 0.14799641 0.14799641]\n",
      " [0.14799641 0.14799641 0.14799641 0.14799641]\n",
      " [0.14799641 0.14799641 0.14799641 0.14799641]]\n",
      "['water' 'water' 'water' ... 'water' 'water' 'water']\n",
      "----------------------\n",
      "(60000, 4)\n",
      "(60000,)\n"
     ]
    }
   ],
   "source": [
    "\n",
    "land_use = np.tile( \"water\", (src.sizes[\"time\"], src.sizes[\"y\"], src.sizes[\"x\"]) ).astype(object)\n",
    "land_use[src.sel(band='green').values > 0.5] = \"forest\"\n",
    "land_use = land_use.astype(str)\n",
    "src.coords[\"land_use\"] = ([\"time\", \"y\", \"x\"], land_use)\n",
    "\n",
    "X = Stackerizer(stack_dims = ('x','y','time'), direction='stack').fit_transform(src)\n",
    "\n",
    "print(X)\n",
    "print('----------------------')\n",
    "print(X.values)\n",
    "print(X.land_use.values)\n",
    "\n",
    "print('----------------------')\n",
    "print(X.shape)\n",
    "print(X.land_use.shape)"
   ]
  },
  {
   "cell_type": "code",
   "execution_count": 3,
   "metadata": {},
   "outputs": [
    {
     "name": "stdout",
     "output_type": "stream",
     "text": [
      "Fitting 3 folds for each of 2 candidates, totalling 6 fits\n"
     ]
    },
    {
     "name": "stderr",
     "output_type": "stream",
     "text": [
      "[Parallel(n_jobs=-1)]: Using backend LokyBackend with 12 concurrent workers.\n",
      "[Parallel(n_jobs=-1)]: Done   4 out of   6 | elapsed:    4.6s remaining:    2.3s\n",
      "[Parallel(n_jobs=-1)]: Done   6 out of   6 | elapsed:    4.8s finished\n"
     ]
    },
    {
     "name": "stdout",
     "output_type": "stream",
     "text": [
      "Best parameters: {'pca__n_components': 5}\n",
      "Accuracy: 0.99965\n"
     ]
    },
    {
     "name": "stderr",
     "output_type": "stream",
     "text": [
      "/home/mmann1123/anaconda3/envs/sk-wombat/lib/python3.7/site-packages/dask/array/core.py:1359: FutureWarning: The `numpy.may_share_memory` function is not implemented by Dask array. You may want to use the da.map_blocks function or something similar to silence this warning. Your code may stop working in a future release.\n",
      "  FutureWarning,\n"
     ]
    }
   ],
   "source": [
    "pl = Pipeline(\n",
    "    [  \n",
    "       (\"sanitizer\", Sanitizer()),    # Remove elements containing NaNs.\n",
    "       (\"featurizer\", Featurizer()),  # Stack all dimensions and variables except for sample dimension.\n",
    "       (\"scaler\", wrap(StandardScaler)), # zscores , ?wrap if xarray.self required? \n",
    "       (\"pca\", wrap(PCA, reshapes=\"feature\")), \n",
    "       (\"cls\", wrap(GaussianNB, reshapes=\"feature\")),\n",
    "    ]\n",
    ")\n",
    "\n",
    "##############################################################################\n",
    "# Since we want to use cross-validated grid search to find the best model\n",
    "# parameters, we define a cross-validator. In order to make sure the model\n",
    "# performs subject-independent recognition, we use a `GroupShuffleSplit`\n",
    "# cross-validator that ensures that the same subject will not appear in both\n",
    "# training and validation set.\n",
    "\n",
    "cv = CrossValidatorWrapper(\n",
    "    GroupShuffleSplit(n_splits=3, test_size=0.5), groupby=[\"time\"]\n",
    ")\n",
    "\n",
    "##############################################################################\n",
    "# The grid search will try different numbers of PCA components to find the best\n",
    "# parameters for this task.\n",
    "\n",
    "gs = GridSearchCV(\n",
    "    pl, cv=cv, n_jobs=-1, verbose=1, param_grid={\"pca__n_components\": [5,10]}\n",
    ")\n",
    "\n",
    "##############################################################################\n",
    "# The label to classify is the activity which we convert to an integer\n",
    "# representation for the classification.\n",
    "\n",
    "y = Target(\n",
    "    coord=\"land_use\", transform_func=LabelEncoder().fit_transform )(X)\n",
    "\n",
    "##############################################################################\n",
    "# Finally, we run the grid search and print out the best parameter combination.\n",
    "\n",
    "gs.fit(X, y)\n",
    "print(\"Best parameters: {0}\".format(gs.best_params_))\n",
    "print(\"Accuracy: {0}\".format(gs.best_score_))"
   ]
  },
  {
   "cell_type": "code",
   "execution_count": 4,
   "metadata": {},
   "outputs": [
    {
     "name": "stderr",
     "output_type": "stream",
     "text": [
      "/home/mmann1123/anaconda3/envs/sk-wombat/lib/python3.7/site-packages/dask/array/core.py:1359: FutureWarning: The `numpy.may_share_memory` function is not implemented by Dask array. You may want to use the da.map_blocks function or something similar to silence this warning. Your code may stop working in a future release.\n",
      "  FutureWarning,\n"
     ]
    },
    {
     "data": {
      "text/plain": [
       "<matplotlib.image.AxesImage at 0x7f8acaae5450>"
      ]
     },
     "execution_count": 4,
     "metadata": {},
     "output_type": "execute_result"
    },
    {
     "data": {
      "image/png": "[encoded data removed]",
      "text/plain": [
       "<Figure size 432x288 with 2 Axes>"
      ]
     },
     "metadata": {
      "needs_background": "light"
     },
     "output_type": "display_data"
    }
   ],
   "source": [
    "#%% predict \n",
    "yp = gs.predict(X)\n",
    "yp = yp.unstack(\"sample\")\n",
    "yp.sel(time='t1').plot.imshow()\n",
    " "
   ]
  },
  {
   "cell_type": "code",
   "execution_count": 6,
   "metadata": {},
   "outputs": [
    {
     "name": "stdout",
     "output_type": "stream",
     "text": [
      "<xarray.DataArray (x: 200, y: 100, time: 3)>\n",
      "array([[['water', 'water', 'water'],\n",
      "        ['water', 'water', 'water'],\n",
      "        ['forest', 'forest', 'forest'],\n",
      "        ...,\n",
      "        ['water', 'water', 'water'],\n",
      "        ['forest', 'forest', 'forest'],\n",
      "        ['forest', 'forest', 'forest']],\n",
      "\n",
      "       [['water', 'water', 'water'],\n",
      "        ['forest', 'forest', 'forest'],\n",
      "        ['water', 'water', 'water'],\n",
      "        ...,\n",
      "        ['water', 'water', 'water'],\n",
      "        ['water', 'water', 'water'],\n",
      "        ['forest', 'forest', 'forest']],\n",
      "\n",
      "       [['forest', 'forest', 'forest'],\n",
      "        ['forest', 'forest', 'forest'],\n",
      "        ['water', 'water', 'water'],\n",
      "        ...,\n",
      "...\n",
      "        ...,\n",
      "        ['forest', 'forest', 'forest'],\n",
      "        ['water', 'water', 'water'],\n",
      "        ['forest', 'forest', 'forest']],\n",
      "\n",
      "       [['forest', 'forest', 'forest'],\n",
      "        ['forest', 'forest', 'forest'],\n",
      "        ['water', 'water', 'water'],\n",
      "        ...,\n",
      "        ['forest', 'forest', 'forest'],\n",
      "        ['water', 'water', 'water'],\n",
      "        ['forest', 'forest', 'forest']],\n",
      "\n",
      "       [['water', 'water', 'water'],\n",
      "        ['forest', 'forest', 'forest'],\n",
      "        ['forest', 'forest', 'forest'],\n",
      "        ...,\n",
      "        ['forest', 'forest', 'forest'],\n",
      "        ['forest', 'forest', 'forest'],\n",
      "        ['water', 'water', 'water']]], dtype='<U6')\n",
      "Coordinates:\n",
      "    land_use  (x, y, time) <U6 'water' 'water' 'water' ... 'water' 'water'\n",
      "  * x         (x) float64 1.015e+03 1.045e+03 1.075e+03 ... 6.985e+03 7.015e+03\n",
      "  * y         (y) float64 1.985e+03 1.955e+03 1.924e+03 ... -984.7 -1.015e+03\n",
      "  * time      (time) object 't1' 't2' 't3'\n"
     ]
    },
    {
     "name": "stderr",
     "output_type": "stream",
     "text": [
      "/home/mmann1123/anaconda3/envs/sk-wombat/lib/python3.7/site-packages/dask/array/core.py:1359: FutureWarning: The `numpy.may_share_memory` function is not implemented by Dask array. You may want to use the da.map_blocks function or something similar to silence this warning. Your code may stop working in a future release.\n",
      "  FutureWarning,\n"
     ]
    }
   ],
   "source": [
    "#%% predict labels\n",
    "yp = gs.predict(X)\n",
    "yp.values = LabelEncoder().fit(X.land_use).classes_[yp]\n",
    "yp = yp.unstack(\"sample\")\n",
    "print(yp)\n"
   ]
  },
  {
   "cell_type": "code",
   "execution_count": null,
   "metadata": {},
   "outputs": [],
   "source": []
  }
 ],
 "metadata": {
  "kernelspec": {
   "display_name": "Python [conda env:sk-wombat] *",
   "language": "python",
   "name": "conda-env-sk-wombat-py"
  },
  "language_info": {
   "codemirror_mode": {
    "name": "ipython",
    "version": 3
   },
   "file_extension": ".py",
   "mimetype": "text/x-python",
   "name": "python",
   "nbconvert_exporter": "python",
   "pygments_lexer": "ipython3",
   "version": "3.7.7"
  }
 },
 "nbformat": 4,
 "nbformat_minor": 4
}
